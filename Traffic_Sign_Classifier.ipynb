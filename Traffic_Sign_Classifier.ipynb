{
 "cells": [
  {
   "cell_type": "markdown",
   "metadata": {},
   "source": [
    "# Self-Driving Car Engineer Nanodegree\n",
    "\n",
    "## Deep Learning\n",
    "\n",
    "## Project: Build a Traffic Sign Recognition Classifier\n",
    "\n",
    "In this notebook, a template is provided for you to implement your functionality in stages which is required to successfully complete this project. If additional code is required that cannot be included in the notebook, be sure that the Python code is successfully imported and included in your submission, if necessary. Sections that begin with **'Implementation'** in the header indicate where you should begin your implementation for your project. Note that some sections of implementation are optional, and will be marked with **'Optional'** in the header.\n",
    "\n",
    "In addition to implementing code, there will be questions that you must answer which relate to the project and your implementation. Each section where you will answer a question is preceded by a **'Question'** header. Carefully read each question and provide thorough answers in the following text boxes that begin with **'Answer:'**. Your project submission will be evaluated based on your answers to each of the questions and the implementation you provide.\n",
    "\n",
    ">**Note:** Code and Markdown cells can be executed using the **Shift + Enter** keyboard shortcut. In addition, Markdown cells can be edited by typically double-clicking the cell to enter edit mode."
   ]
  },
  {
   "cell_type": "markdown",
   "metadata": {},
   "source": [
    "---\n",
    "## Step 0: Load The Data"
   ]
  },
  {
   "cell_type": "code",
   "execution_count": 1,
   "metadata": {
    "collapsed": false
   },
   "outputs": [],
   "source": [
    "# Load pickled data\n",
    "import pickle\n",
    "\n",
    "# TODO: Fill this in based on where you saved the training and testing data\n",
    "\n",
    "training_file = 'train.p'\n",
    "testing_file = 'test.p'\n",
    "\n",
    "with open(training_file, mode='rb') as f:\n",
    "    train = pickle.load(f)\n",
    "with open(testing_file, mode='rb') as f:\n",
    "    test = pickle.load(f)\n",
    "    \n",
    "X_train_rgb, y_train = train['features'], train['labels']\n",
    "X_test_rgb, y_test = test['features'], test['labels']"
   ]
  },
  {
   "cell_type": "markdown",
   "metadata": {},
   "source": [
    "---\n",
    "\n",
    "## Step 1: Dataset Summary & Exploration\n",
    "\n",
    "The pickled data is a dictionary with 4 key/value pairs:\n",
    "\n",
    "- `'features'` is a 4D array containing raw pixel data of the traffic sign images, (num examples, width, height, channels).\n",
    "- `'labels'` is a 2D array containing the label/class id of the traffic sign. The file `signnames.csv` contains id -> name mappings for each id.\n",
    "- `'sizes'` is a list containing tuples, (width, height) representing the the original width and height the image.\n",
    "- `'coords'` is a list containing tuples, (x1, y1, x2, y2) representing coordinates of a bounding box around the sign in the image. **THESE COORDINATES ASSUME THE ORIGINAL IMAGE. THE PICKLED DATA CONTAINS RESIZED VERSIONS (32 by 32) OF THESE IMAGES**\n",
    "\n",
    "Complete the basic data summary below."
   ]
  },
  {
   "cell_type": "code",
   "execution_count": 2,
   "metadata": {
    "collapsed": false
   },
   "outputs": [
    {
     "name": "stdout",
     "output_type": "stream",
     "text": [
      "Number of training examples = 39209\n",
      "Number of testing examples = 12630\n",
      "Image data shape = (32, 32, 3)\n",
      "Number of classes = 39209\n"
     ]
    }
   ],
   "source": [
    "### Replace each question mark with the appropriate value.\n",
    "\n",
    "# TODO: Number of training examples\n",
    "n_train = len(X_train_rgb)\n",
    "\n",
    "# TODO: Number of testing examples.\n",
    "n_test = len(X_test_rgb)\n",
    "\n",
    "# TODO: What's the shape of an traffic sign image?\n",
    "image_shape = X_train_rgb[0].shape\n",
    "\n",
    "# TODO: How many unique classes/labels there are in the dataset.\n",
    "n_classes = len(y_train)\n",
    "\n",
    "print(\"Number of training examples =\", n_train)\n",
    "print(\"Number of testing examples =\", n_test)\n",
    "print(\"Image data shape =\", image_shape)\n",
    "print(\"Number of classes =\", n_classes)"
   ]
  },
  {
   "cell_type": "markdown",
   "metadata": {},
   "source": [
    "Visualize the German Traffic Signs Dataset using the pickled file(s). This is open ended, suggestions include: plotting traffic sign images, plotting the count of each sign, etc.\n",
    "\n",
    "The [Matplotlib](http://matplotlib.org/) [examples](http://matplotlib.org/examples/index.html) and [gallery](http://matplotlib.org/gallery.html) pages are a great resource for doing visualizations in Python.\n",
    "\n",
    "**NOTE:** It's recommended you start with something simple first. If you wish to do more, come back to it after you've completed the rest of the sections."
   ]
  },
  {
   "cell_type": "code",
   "execution_count": 3,
   "metadata": {
    "collapsed": false
   },
   "outputs": [
    {
     "name": "stdout",
     "output_type": "stream",
     "text": [
      "7\n"
     ]
    },
    {
     "data": {
      "image/png": "[encoded data removed]",
      "text/plain": [
       "<matplotlib.figure.Figure at 0x47923c8>"
      ]
     },
     "metadata": {},
     "output_type": "display_data"
    }
   ],
   "source": [
    "### Data exploration visualization goes here.\n",
    "### Feel free to use as many code cells as needed.\n",
    "import matplotlib.pyplot as plt\n",
    "# Visualizations will be shown in the notebook.\n",
    "%matplotlib inline\n",
    "\n",
    "#IB: replace later\n",
    "import random\n",
    "index = random.randint(0, len(X_train_rgb))\n",
    "image = X_train_rgb[index].squeeze()\n",
    "\n",
    "plt.figure(figsize=(1,1))\n",
    "plt.imshow(image)\n",
    "print(y_train[index])\n",
    "#end IB"
   ]
  },
  {
   "cell_type": "markdown",
   "metadata": {},
   "source": [
    "----\n",
    "\n",
    "## Step 2: Design and Test a Model Architecture\n",
    "\n",
    "Design and implement a deep learning model that learns to recognize traffic signs. Train and test your model on the [German Traffic Sign Dataset](http://benchmark.ini.rub.de/?section=gtsrb&subsection=dataset).\n",
    "\n",
    "There are various aspects to consider when thinking about this problem:\n",
    "\n",
    "- Neural network architecture\n",
    "- Play around preprocessing techniques (normalization, rgb to grayscale, etc)\n",
    "- Number of examples per label (some have more than others).\n",
    "- Generate fake data.\n",
    "\n",
    "Here is an example of a [published baseline model on this problem](http://yann.lecun.com/exdb/publis/pdf/sermanet-ijcnn-11.pdf). It's not required to be familiar with the approach used in the paper but, it's good practice to try to read papers like these.\n",
    "\n",
    "**NOTE:** The LeNet-5 implementation shown in the [classroom](https://classroom.udacity.com/nanodegrees/nd013/parts/fbf77062-5703-404e-b60c-95b78b2f3f9e/modules/6df7ae49-c61c-4bb2-a23e-6527e69209ec/lessons/601ae704-1035-4287-8b11-e2c2716217ad/concepts/d4aca031-508f-4e0b-b493-e7b706120f81) at the end of the CNN lesson is a solid starting point. You'll have to change the number of classes and possibly the preprocessing, but aside from that it's plug and play!"
   ]
  },
  {
   "cell_type": "markdown",
   "metadata": {},
   "source": [
    "### Implementation\n",
    "\n",
    "Use the code cell (or multiple code cells, if necessary) to implement the first step of your project. Once you have completed your implementation and are satisfied with the results, be sure to thoroughly answer the questions that follow."
   ]
  },
  {
   "cell_type": "code",
   "execution_count": 4,
   "metadata": {
    "collapsed": false
   },
   "outputs": [
    {
     "name": "stdout",
     "output_type": "stream",
     "text": [
      "25\n"
     ]
    },
    {
     "data": {
      "image/png": "[encoded data removed]",
      "text/plain": [
       "<matplotlib.figure.Figure at 0x7d48390>"
      ]
     },
     "metadata": {},
     "output_type": "display_data"
    }
   ],
   "source": [
    "### Preprocess the data here.\n",
    "#Shuffle the data\n",
    "\n",
    "#IB: consider different prepocess step\n",
    "from sklearn.utils import shuffle\n",
    "import cv2\n",
    "\n",
    "#Convert train and test sets from RGB to Grayscale\n",
    "X_train = X_train_rgb #[cv2.cvtColor(i, cv2.COLOR_BGR2GRAY).reshape((32,32,1)) for i in X_train_rgb]\n",
    "X_test = X_test_rgb #[cv2.cvtColor(i, cv2.COLOR_BGR2GRAY) for i in X_test_rgb]\n",
    "\n",
    "image_shape = X_train[0].shape\n",
    "\n",
    "#shuffle training sets\n",
    "X_train, y_train = shuffle(X_train, y_train)\n",
    "\n",
    "#print sample image\n",
    "index = random.randint(0, len(X_train))\n",
    "gray = X_train[index].squeeze()\n",
    "\n",
    "plt.figure(figsize=(1,1))\n",
    "plt.imshow(gray, cmap='gray')\n",
    "print(y_train[index])\n",
    "#End IB\n",
    "\n",
    "### Feel free to use as many code cells as needed."
   ]
  },
  {
   "cell_type": "markdown",
   "metadata": {},
   "source": [
    "### Question 1 \n",
    "\n",
    "_Describe how you preprocessed the data. Why did you choose that technique?_"
   ]
  },
  {
   "cell_type": "markdown",
   "metadata": {},
   "source": [
    "**Answer:** Although I \"plugged and played\" the shuffling code from the lesson, shuffling the data is a simple straight-forward task where I did not feel the need to improve upon or rather re-invent the wheel.  However, I decided to improve the performance of the network's architecture by converting each RGB image into Grayscale since a traffic sign's color is not required to convey its meaning.  Instead, color is used only to capture the attention of a human driver.  As such, each traffic sign is uniquely distinguishable by its shape.  Such is the case when the image is of poor quality or is hidden inside a shadow or the sun's reflection which modifies its original colors."
   ]
  },
  {
   "cell_type": "code",
   "execution_count": 5,
   "metadata": {
    "collapsed": false
   },
   "outputs": [],
   "source": [
    "### Generate data additional data (OPTIONAL!)\n",
    "### and split the data into training/validation/testing sets here.\n",
    "\n",
    "#cross-validation\n",
    "from sklearn.model_selection import train_test_split\n",
    "\n",
    "X_train, X_validation, y_train, y_validation = train_test_split(X_train, y_train, test_size=0.2, random_state=0)\n",
    "### Feel free to use as many code cells as needed."
   ]
  },
  {
   "cell_type": "markdown",
   "metadata": {},
   "source": [
    "### Question 2\n",
    "\n",
    "_Describe how you set up the training, validation and testing data for your model. **Optional**: If you generated additional data, how did you generate the data? Why did you generate the data? What are the differences in the new dataset (with generated data) from the original dataset?_"
   ]
  },
  {
   "cell_type": "markdown",
   "metadata": {},
   "source": [
    "**Answer:** I decided to use cross-validation in order to prevent overfitting my training data by setting aside 40% of the training data."
   ]
  },
  {
   "cell_type": "code",
   "execution_count": 6,
   "metadata": {
    "collapsed": false
   },
   "outputs": [],
   "source": [
    "### Define your architecture here.\n",
    "### Feel free to use as many code cells as needed.\n",
    "\n",
    "from tensorflow.contrib.layers import flatten\n",
    "import tensorflow as tf\n",
    "\n",
    "EPOCHS = 10\n",
    "BATCH_SIZE = 128\n",
    "\n",
    "# Hyperparameters\n",
    "mu = 0\n",
    "sigma = 0.1\n",
    "\n",
    "def LeNetGray(x):    \n",
    "    # Hyperparameters\n",
    "\n",
    "    # SOLUTION: Layer 1: Convolutional. Input = 32x32x3. Output = 28x28x6.\n",
    "    conv1_W = tf.Variable(tf.truncated_normal(shape=(5, 5, 1, 6), mean = mu, stddev = sigma))\n",
    "    conv1_b = tf.Variable(tf.zeros(6))\n",
    "    conv1   = tf.nn.conv2d(x, conv1_W, strides=[1, 1, 1, 1], padding='VALID') + conv1_b\n",
    "\n",
    "    # SOLUTION: Activation.\n",
    "    conv1 = tf.nn.relu(conv1)\n",
    "\n",
    "    # SOLUTION: Pooling. Input = 28x28x6. Output = 14x14x6.\n",
    "    conv1 = tf.nn.max_pool(conv1, ksize=[1, 2, 2, 1], strides=[1, 2, 2, 1], padding='VALID')\n",
    "\n",
    "    # SOLUTION: Layer 2: Convolutional. Output = 10x10x16.\n",
    "    conv2_W = tf.Variable(tf.truncated_normal(shape=(5, 5, 6, 16), mean = mu, stddev = sigma))\n",
    "    conv2_b = tf.Variable(tf.zeros(16))\n",
    "    conv2   = tf.nn.conv2d(conv1, conv2_W, strides=[1, 1, 1, 1], padding='VALID') + conv2_b\n",
    "\n",
    "    # SOLUTION: Activation.\n",
    "    conv2 = tf.nn.relu(conv2)\n",
    "\n",
    "    # SOLUTION: Pooling. Input = 10x10x16. Output = 5x5x16.\n",
    "    conv2 = tf.nn.max_pool(conv2, ksize=[1, 2, 2, 1], strides=[1, 2, 2, 1], padding='VALID')\n",
    "\n",
    "    # SOLUTION: Flatten. Input = 5x5x16. Output = 400.\n",
    "    fc0   = flatten(conv2)\n",
    "\n",
    "    # SOLUTION: Layer 3: Fully Connected. Input = 400. Output = 120.\n",
    "    fc1_W = tf.Variable(tf.truncated_normal(shape=(400, 120), mean = mu, stddev = sigma))\n",
    "    fc1_b = tf.Variable(tf.zeros(120))\n",
    "    fc1   = tf.matmul(fc0, fc1_W) + fc1_b\n",
    "\n",
    "    # SOLUTION: Activation.\n",
    "    fc1    = tf.nn.relu(fc1)\n",
    "\n",
    "    # SOLUTION: Layer 4: Fully Connected. Input = 120. Output = 84.\n",
    "    fc2_W  = tf.Variable(tf.truncated_normal(shape=(120, 84), mean = mu, stddev = sigma))\n",
    "    fc2_b  = tf.Variable(tf.zeros(84))\n",
    "    fc2    = tf.matmul(fc1, fc2_W) + fc2_b\n",
    "\n",
    "    # SOLUTION: Activation.\n",
    "    fc2    = tf.nn.relu(fc2)\n",
    "\n",
    "    # SOLUTION: Layer 5: Fully Connected. Input = 84. Output = 10.\n",
    "    fc3_W  = tf.Variable(tf.truncated_normal(shape=(84, n_classes), mean = mu, stddev = sigma))\n",
    "    fc3_b  = tf.Variable(tf.zeros(n_classes))\n",
    "    logits = tf.matmul(fc2, fc3_W) + fc3_b\n",
    "\n",
    "    return logits\n",
    "\n",
    "def LeNet1(x):    \n",
    "    # Hyperparameters\n",
    "\n",
    "    # SOLUTION: Layer 1: Convolutional. Input = 32x32x3. Output = 28x28x6.\n",
    "    conv1_W = tf.Variable(tf.truncated_normal(shape=(5, 5, 3, 6), mean = mu, stddev = sigma))\n",
    "    conv1_b = tf.Variable(tf.zeros(6))\n",
    "    conv1   = tf.nn.conv2d(x, conv1_W, strides=[1, 1, 1, 1], padding='VALID') + conv1_b\n",
    "\n",
    "    # SOLUTION: Activation.\n",
    "    conv1 = tf.nn.relu(conv1)\n",
    "\n",
    "    # SOLUTION: Pooling. Input = 28x28x6. Output = 14x14x6.\n",
    "    conv1 = tf.nn.max_pool(conv1, ksize=[1, 2, 2, 1], strides=[1, 2, 2, 1], padding='VALID')\n",
    "\n",
    "    # SOLUTION: Layer 2: Convolutional. Output = 10x10x16.\n",
    "    conv2_W = tf.Variable(tf.truncated_normal(shape=(5, 5, 6, 16), mean = mu, stddev = sigma))\n",
    "    conv2_b = tf.Variable(tf.zeros(16))\n",
    "    conv2   = tf.nn.conv2d(conv1, conv2_W, strides=[1, 1, 1, 1], padding='VALID') + conv2_b\n",
    "\n",
    "    # SOLUTION: Activation.\n",
    "    conv2 = tf.nn.relu(conv2)\n",
    "\n",
    "    # SOLUTION: Pooling. Input = 10x10x16. Output = 5x5x16.\n",
    "    conv2 = tf.nn.max_pool(conv2, ksize=[1, 2, 2, 1], strides=[1, 2, 2, 1], padding='VALID')\n",
    "\n",
    "    # SOLUTION: Flatten. Input = 5x5x16. Output = 400.\n",
    "    fc0   = flatten(conv2)\n",
    "\n",
    "    # SOLUTION: Layer 3: Fully Connected. Input = 400. Output = 120.\n",
    "    fc1_W = tf.Variable(tf.truncated_normal(shape=(400, 120), mean = mu, stddev = sigma))\n",
    "    fc1_b = tf.Variable(tf.zeros(120))\n",
    "    fc1   = tf.matmul(fc0, fc1_W) + fc1_b\n",
    "\n",
    "    # SOLUTION: Activation.\n",
    "    fc1    = tf.nn.relu(fc1)\n",
    "\n",
    "    # SOLUTION: Layer 4: Fully Connected. Input = 120. Output = 84.\n",
    "    fc2_W  = tf.Variable(tf.truncated_normal(shape=(120, 84), mean = mu, stddev = sigma))\n",
    "    fc2_b  = tf.Variable(tf.zeros(84))\n",
    "    fc2    = tf.matmul(fc1, fc2_W) + fc2_b\n",
    "\n",
    "    # SOLUTION: Activation.\n",
    "    fc2    = tf.nn.relu(fc2)\n",
    "\n",
    "    # SOLUTION: Layer 5: Fully Connected. Input = 84. Output = 10.\n",
    "    fc3_W  = tf.Variable(tf.truncated_normal(shape=(84, n_classes), mean = mu, stddev = sigma))\n",
    "    fc3_b  = tf.Variable(tf.zeros(n_classes))\n",
    "    logits = tf.matmul(fc2, fc3_W) + fc3_b\n",
    "\n",
    "    return logits\n",
    "\n",
    "\n",
    "def conv(layer, filter_size, in_depth, out_depth, strides = 1, padding = 'VALID', dilation_rate=None):    \n",
    "    # Weight and bias\n",
    "    weight = tf.Variable(tf.truncated_normal(\n",
    "    [filter_size, filter_size, in_depth, out_depth], mean = mu, stddev = sigma))\n",
    "    bias = tf.Variable(tf.zeros(out_depth))\n",
    "    #conv_layer = tf.add(tf.matmul(conv_layer, weight), bias)\n",
    "\n",
    "    #convolution\n",
    "    if(dilation_rate == None):\n",
    "        conv_layer = tf.nn.conv2d(layer, weight, strides=[1, strides, strides, 1], padding=padding)\n",
    "    else:\n",
    "        conv_layer = tf.nn.convolution(layer, weight, padding=padding, strides=[strides, strides], dilation_rate=dilation_rate)\n",
    "                                                                                \n",
    "    # Add bias\n",
    "    conv_layer = tf.nn.bias_add(conv_layer, bias)\n",
    "\n",
    "    #Activation.\n",
    "    return tf.nn.relu(conv_layer)\n",
    "\n",
    "\n",
    "def GoogLeNet4(x):\n",
    "    #Layer 1: Convolutional. Input = 32x32x3. Output = 32x32x3.\n",
    "    conv_layer1 = conv(x, filter_size=1, in_depth=3, out_depth=3)\n",
    "    \n",
    "    #Layer 2: Convolutional. Input = 32x32x3. Output = 32x32x3.\n",
    "    conv_layer2 = conv(x, filter_size=1, in_depth=3, out_depth=3)\n",
    "    \n",
    "    #Layer 2: Convolutional. Input = 32x32x3. Output = 30x30x3.\n",
    "    #conv_layer2 = tf.pad(conv_layer2, [[0, 0], [3, 3], [3, 3], [0, 0]], 'CONSTANT')\n",
    "    conv_layer2 = conv(conv_layer2, filter_size=3, in_depth=3, out_depth=3)#, dilation_rate=3)\n",
    "    \n",
    "    #Layer 3: Convolutional. Input = 32x32x3. Output = 32x32x3.\n",
    "    conv_layer3 = conv(x, filter_size=1, in_depth=3, out_depth=3)\n",
    "    \n",
    "    #Layer 3: Convolutional. Input = 32x32x3. Output = 28x28x3.\n",
    "    #conv_layer3 = tf.pad(conv_layer3, [[0, 0], [2, 2], [2, 2], [0, 0]], 'CONSTANT')\n",
    "    conv_layer3 = conv(conv_layer3, filter_size=5, in_depth=3, out_depth=3)#, dilation_rate=5)\n",
    "    \n",
    "    #Layer 4: Convolutional. Input = 32x32x3. Output = 30x30x3.\n",
    "    conv_layer4 = conv(x, filter_size=3, in_depth=3, out_depth=3)\n",
    "    \n",
    "    #path 4: max-pooling\n",
    "    conv_layer4 = tf.nn.max_pool(conv_layer4, ksize=[1, 2, 2, 1], strides=[1, 2, 2, 1], padding='VALID')\n",
    "    \n",
    "    #Layer 4: Convolutional. Input = 15x15x3. Output = 1x1x3.\n",
    "    conv_layer4 = conv(conv_layer4, filter_size=1, in_depth=3, out_depth=3)\n",
    "    \n",
    "    #Pad each layer to 5x5: Input= 30x30x3, 28x28x3, 15x15x3, Output= 32x32x3, 32x32x3, 32x32x3\n",
    "    conv_layer2 = tf.pad(conv_layer2, [[0, 0], [1, 1], [1, 1], [0, 0]], 'CONSTANT')\n",
    "    conv_layer3 = tf.pad(conv_layer3, [[0, 0], [2, 2], [2, 2], [0, 0]], 'CONSTANT')\n",
    "    conv_layer4 = tf.pad(conv_layer4, [[0, 0], [9, 8], [9, 8], [0, 0]], 'CONSTANT')\n",
    "    \n",
    "    #filter concatenation Input = 32x32x3, 32x32x3, 32x32x3, 32x32x3. Output = 32x32x12\n",
    "    conv_layer = tf.concat(3, [conv_layer1, conv_layer2, conv_layer3, conv_layer4])\n",
    "    \n",
    "    #Input: 32x32x12 Output: 12288\n",
    "    conv_layer = tf.contrib.layers.flatten(conv_layer)\n",
    "    \n",
    "    weight = tf.Variable(tf.truncated_normal(\n",
    "    shape=(12288, n_classes), mean = mu, stddev = sigma))\n",
    "    bias = tf.Variable(tf.zeros(n_classes))\n",
    "    \n",
    "    #Input: 900 Output:3\n",
    "    logits = tf.add(tf.matmul(conv_layer, weight), bias)\n",
    "    \n",
    "    return logits\n",
    "\n",
    "def GoogLeNet3(x):\n",
    "    #Layer 1: Convolutional. Input = 32x32x3. Output = 1x1x32.\n",
    "    conv_layer1 = conv(x, filter_size=32, in_depth=3, out_depth=256)\n",
    "    \n",
    "    #Layer 2: Convolutional. Input = 32x32x3. Output = 1x1x16.\n",
    "    conv_layer2 = conv(x, filter_size=32, in_depth=3, out_depth=128)\n",
    "    \n",
    "    #Layer 2: Convolutional. Input = 1x1x16. Output = 3x3x32.\n",
    "    conv_layer2 = tf.pad(conv_layer2, [[0, 0], [3, 3], [3, 3], [0, 0]], 'CONSTANT')\n",
    "    conv_layer2 = conv(conv_layer2, filter_size=3, in_depth=128, out_depth=256)#, dilation_rate=3)\n",
    "    \n",
    "    #Layer 3: Convolutional. Input = 32x32x3. Output = 1x1x16.\n",
    "    conv_layer3 = conv(x, filter_size=32, in_depth=3, out_depth=128)\n",
    "    \n",
    "    #Layer 3: Convolutional. Input = 1x1x16. Output = 5x5x32.\n",
    "    conv_layer3 = tf.pad(conv_layer3, [[0, 0], [2, 2], [2, 2], [0, 0]], 'CONSTANT')\n",
    "    conv_layer3 = conv(conv_layer3, filter_size=3, in_depth=128, out_depth=256)#, dilation_rate=5)\n",
    "    \n",
    "    #Layer 4: Convolutional. Input = 32x32x3. Output = 3x3x16.\n",
    "    conv_layer4 = conv(x, filter_size=28, in_depth=3, out_depth=128)\n",
    "    \n",
    "    #path 4: max-pooling\n",
    "    conv_layer4 = tf.nn.max_pool(conv_layer4, ksize=[1, 2, 2, 1], strides=[1, 2, 2, 1], padding='VALID')\n",
    "    \n",
    "    #Layer 4: Convolutional. Input = 3x3x16. Output = 1x1x32.\n",
    "    conv_layer4 = conv(conv_layer4, filter_size=2, in_depth=128, out_depth=256)\n",
    "    \n",
    "    #Pad each layer to 5x5: Input= 1x1x32, 5x5x32, 3x3x32, 3x3x32, Output= 5x5x32, 5x5x32, 5x5x32, 5x5x32\n",
    "    conv_layer1 = tf.pad(conv_layer1, [[0, 0], [2, 2], [2, 2], [0, 0]], 'CONSTANT')\n",
    "    conv_layer3 = tf.pad(conv_layer3, [[0, 0], [1, 1], [1, 1], [0, 0]], 'CONSTANT')\n",
    "    conv_layer4 = tf.pad(conv_layer4, [[0, 0], [2, 2], [2, 2], [0, 0]], 'CONSTANT')\n",
    "    \n",
    "    #filter concatenation Input = 5x5x32, 5x5x32, 5x5x32, 5x5x32. Output = 5x5x128\n",
    "    conv_layer = tf.concat(3, [conv_layer1, conv_layer2, conv_layer3, conv_layer4])\n",
    "    \n",
    "    #Input: 5x5x128 Output: 3200\n",
    "    conv_layer = tf.contrib.layers.flatten(conv_layer)\n",
    "    \n",
    "    weight = tf.Variable(tf.truncated_normal(\n",
    "    shape=(25600, n_classes), mean = mu, stddev = sigma))\n",
    "    bias = tf.Variable(tf.zeros(n_classes))\n",
    "    \n",
    "    #Input: 1632 Output:32\n",
    "    logits = tf.add(tf.matmul(conv_layer, weight), bias)\n",
    "    \n",
    "    return logits\n",
    "\n",
    "\n",
    "def GoogLeNet2(x):\n",
    "    #Layer 1: Convolutional. Input = 32x32x3. Output = 1x1x32.\n",
    "    conv_layer1 = conv(x, filter_size=32, in_depth=3, out_depth=32)\n",
    "    \n",
    "    #Layer 2: Convolutional. Input = 32x32x3. Output = 1x1x16.\n",
    "    conv_layer2 = conv(x, filter_size=32, in_depth=3, out_depth=16)\n",
    "    \n",
    "    #Layer 2: Convolutional. Input = 1x1x16. Output = 3x3x32.\n",
    "    conv_layer2 = tf.pad(conv_layer2, [[0, 0], [3, 3], [3, 3], [0, 0]], 'CONSTANT')\n",
    "    conv_layer2 = conv(conv_layer2, filter_size=3, in_depth=16, out_depth=32)#, dilation_rate=3)\n",
    "    \n",
    "    #Layer 3: Convolutional. Input = 32x32x3. Output = 1x1x16.\n",
    "    conv_layer3 = conv(x, filter_size=32, in_depth=3, out_depth=16)\n",
    "    \n",
    "    #Layer 3: Convolutional. Input = 1x1x16. Output = 5x5x32.\n",
    "    conv_layer3 = tf.pad(conv_layer3, [[0, 0], [2, 2], [2, 2], [0, 0]], 'CONSTANT')\n",
    "    conv_layer3 = conv(conv_layer3, filter_size=3, in_depth=16, out_depth=32)#, dilation_rate=5)\n",
    "    \n",
    "    #Layer 4: Convolutional. Input = 32x32x3. Output = 3x3x16.\n",
    "    conv_layer4 = conv(x, filter_size=28, in_depth=3, out_depth=16)\n",
    "    \n",
    "    #path 4: max-pooling\n",
    "    conv_layer4 = tf.nn.max_pool(conv_layer4, ksize=[1, 2, 2, 1], strides=[1, 2, 2, 1], padding='VALID')\n",
    "    \n",
    "    #Layer 4: Convolutional. Input = 3x3x16. Output = 1x1x32.\n",
    "    conv_layer4 = conv(conv_layer4, filter_size=2, in_depth=16, out_depth=32)\n",
    "    \n",
    "    #Pad each layer to 5x5: Input= 1x1x32, 5x5x32, 3x3x32, 3x3x32, Output= 5x5x32, 5x5x32, 5x5x32, 5x5x32\n",
    "    conv_layer1 = tf.pad(conv_layer1, [[0, 0], [2, 2], [2, 2], [0, 0]], 'CONSTANT')\n",
    "    conv_layer3 = tf.pad(conv_layer3, [[0, 0], [1, 1], [1, 1], [0, 0]], 'CONSTANT')\n",
    "    conv_layer4 = tf.pad(conv_layer4, [[0, 0], [2, 2], [2, 2], [0, 0]], 'CONSTANT')\n",
    "    \n",
    "    #filter concatenation Input = 5x5x32, 5x5x32, 5x5x32, 5x5x32. Output = 5x5x128\n",
    "    conv_layer = tf.concat(3, [conv_layer1, conv_layer2, conv_layer3, conv_layer4])\n",
    "    \n",
    "    #Input: 5x5x128 Output: 3200\n",
    "    conv_layer = tf.contrib.layers.flatten(conv_layer)\n",
    "    \n",
    "    weight = tf.Variable(tf.truncated_normal(\n",
    "    shape=(3200, n_classes), mean = mu, stddev = sigma))\n",
    "    bias = tf.Variable(tf.zeros(n_classes))\n",
    "    \n",
    "    #Input: 1632 Output:32\n",
    "    logits = tf.add(tf.matmul(conv_layer, weight), bias)\n",
    "    \n",
    "    return logits\n",
    "\n",
    "def GoogLeNet(x):\n",
    "    #Layer 1: Convolutional. Input = 32x32x3. Output = 1x1x3.\n",
    "    conv_layer1 = conv(x, filter_size=32, in_depth=3, out_depth=3)\n",
    "    \n",
    "    #Layer 2: Convolutional. Input = 32x32x3. Output = 1x1x3.\n",
    "    conv_layer2 = conv(x, filter_size=32, in_depth=3, out_depth=3)\n",
    "    \n",
    "    #Layer 2: Convolutional. Input = 1x1x3. Output = 3x3x3.\n",
    "    conv_layer2 = conv(conv_layer2, filter_size=1, in_depth=3, out_depth=3, dilation_rate=3)\n",
    "    \n",
    "    #Layer 3: Convolutional. Input = 32x32x3. Output = 1x1x3.\n",
    "    conv_layer3 = conv(x, filter_size=32, in_depth=3, out_depth=3)\n",
    "    \n",
    "    #Layer 3: Convolutional. Input = 1x1x3. Output = 5x5x3.\n",
    "    conv_layer3 = conv(conv_layer3, filter_size=1, in_depth=3, out_depth=3, dilation_rate=5)\n",
    "    \n",
    "    #Layer 4: Convolutional. Input = 32x32x3. Output = 3x3x3.\n",
    "    conv_layer4 = conv(x, filter_size=29, in_depth=3, out_depth=3)\n",
    "    \n",
    "    #path 4: max-pooling\n",
    "    conv_layer4 = tf.nn.max_pool(conv_layer4, ksize=[1, 2, 2, 1], strides=[1, 2, 2, 1], padding='VALID')\n",
    "    \n",
    "    #Layer 4: Convolutional. Input = 3x3x3. Output = 1x1x3.\n",
    "    conv_layer4 = conv(conv_layer4, filter_size=2, in_depth=3, out_depth=3)\n",
    "    \n",
    "    #filter concatenation Input = 1x1, 5x5, 3x3, 3x3. Output = (34x4, 12)\n",
    "    conv_layer = tf.concat(3, [conv_layer1, conv_layer2, conv_layer3, conv_layer4])\n",
    "    \n",
    "    #Input: 34x4x12 Output: 1632\n",
    "    conv_layer = tf.contrib.layers.flatten(conv_layer)\n",
    "    \n",
    "    weight = tf.Variable(tf.truncated_normal(\n",
    "    [12, n_classes], mean = mu, stddev = sigma))\n",
    "    bias = tf.Variable(tf.zeros(n_classes))\n",
    "    \n",
    "    #Input: 1632 Output:32\n",
    "    logits = tf.add(tf.matmul(conv_layer, weight), bias)\n",
    "    \n",
    "    return logits\n",
    "\n",
    "def LeNet(x):   \n",
    "    # TODO: Layer 1: Convolutional. Input = 32x32x3. Output = 28x28x6.\n",
    "    k_output = 6\n",
    "    \n",
    "    # Weight and bias\n",
    "    weight = tf.Variable(tf.truncated_normal(\n",
    "    [5, 5, 3, k_output], mean = mu, stddev = sigma))\n",
    "    bias = tf.Variable(tf.zeros(k_output))\n",
    "\n",
    "    conv_layer = tf.nn.conv2d(x, weight, strides=[1, 1, 1, 1], padding='VALID')\n",
    "    # Add bias\n",
    "    conv_layer = tf.nn.bias_add(conv_layer, bias)\n",
    "\n",
    "    # TODO: Activation.\n",
    "    conv_layer = tf.nn.relu(conv_layer)\n",
    "\n",
    "    # TODO: Pooling. Input = 28x28x6. Output = 14x14x6.\n",
    "    conv_layer = tf.nn.max_pool(conv_layer, ksize=[1, 2, 2, 1], strides=[1, 2, 2, 1], padding='VALID')\n",
    "\n",
    "    # TODO: Layer 2: Convolutional. Output = 10x10x16.\n",
    "    k_output = 16\n",
    "    \n",
    "    # Weight and bias\n",
    "    weight = tf.Variable(tf.truncated_normal(\n",
    "    [5, 5, 6, k_output], mean = mu, stddev = sigma))\n",
    "    bias = tf.Variable(tf.zeros(k_output))\n",
    "    \n",
    "    conv_layer = tf.nn.conv2d(conv_layer, weight, strides=[1, 1, 1, 1], padding='VALID')\n",
    "    # Add bias\n",
    "    conv_layer = tf.nn.bias_add(conv_layer, bias)\n",
    "    \n",
    "    # TODO: Activation.\n",
    "    conv_layer = tf.nn.relu(conv_layer)\n",
    "\n",
    "    # TODO: Pooling. Input = 10x10x16. Output = 5x5x16.\n",
    "    conv_layer = tf.nn.max_pool(conv_layer, ksize=[1, 2, 2, 1], strides=[1, 2, 2, 1], padding='VALID')\n",
    "\n",
    "    # TODO: Flatten. Input = 5x5x16. Output = 400.\n",
    "    conv_layer = tf.contrib.layers.flatten(conv_layer)\n",
    "    \n",
    "    # TODO: Layer 3: Fully Connected. Input = 400. Output = 120.\n",
    "    weight = tf.Variable(tf.truncated_normal(\n",
    "    [400,120], mean = mu, stddev = sigma))\n",
    "    bias = tf.Variable(tf.zeros(120))\n",
    "    conv_layer = tf.add(tf.matmul(conv_layer, weight), bias)\n",
    "    \n",
    "    # TODO: Activation.\n",
    "    conv_layer = tf.nn.relu(conv_layer)\n",
    "\n",
    "    # TODO: Layer 4: Fully Connected. Input = 120. Output = 84.\n",
    "    weight = tf.Variable(tf.truncated_normal(\n",
    "    [120, 84], mean = mu, stddev = sigma))\n",
    "    bias = tf.Variable(tf.zeros(84))\n",
    "    conv_layer = tf.add(tf.matmul(conv_layer, weight), bias)\n",
    "    \n",
    "    # TODO: Activation.\n",
    "    conv_layer = tf.nn.relu(conv_layer)\n",
    "\n",
    "    # TODO: Layer 5: Fully Connected. Input = 84. Output = 32.\n",
    "    weight = tf.Variable(tf.truncated_normal(\n",
    "    [84,n_classes], mean = mu, stddev = sigma))\n",
    "    bias = tf.Variable(tf.zeros(n_classes))\n",
    "    \n",
    "    logits = tf.add(tf.matmul(conv_layer, weight), bias)\n",
    "    \n",
    "    return logits"
   ]
  },
  {
   "cell_type": "markdown",
   "metadata": {},
   "source": [
    "### Question 3\n",
    "\n",
    "_What does your final architecture look like? (Type of model, layers, sizes, connectivity, etc.)  For reference on how to build a deep neural network using TensorFlow, see [Deep Neural Network in TensorFlow\n",
    "](https://classroom.udacity.com/nanodegrees/nd013/parts/fbf77062-5703-404e-b60c-95b78b2f3f9e/modules/6df7ae49-c61c-4bb2-a23e-6527e69209ec/lessons/b516a270-8600-4f93-a0a3-20dfeabe5da6/concepts/83a3a2a2-a9bd-4b7b-95b0-eb924ab14432) from the classroom._\n"
   ]
  },
  {
   "cell_type": "markdown",
   "metadata": {},
   "source": [
    "**Answer:**"
   ]
  },
  {
   "cell_type": "code",
   "execution_count": 7,
   "metadata": {
    "collapsed": false
   },
   "outputs": [
    {
     "name": "stdout",
     "output_type": "stream",
     "text": [
      "Training...\n",
      "\n",
      "EPOCH 1 ...\n",
      "Validation Accuracy = 0.722\n",
      "\n",
      "EPOCH 2 ...\n",
      "Validation Accuracy = 0.832\n",
      "\n",
      "EPOCH 3 ...\n",
      "Validation Accuracy = 0.887\n",
      "\n",
      "EPOCH 4 ...\n",
      "Validation Accuracy = 0.917\n",
      "\n",
      "EPOCH 5 ...\n",
      "Validation Accuracy = 0.929\n",
      "\n",
      "EPOCH 6 ...\n",
      "Validation Accuracy = 0.940\n",
      "\n",
      "EPOCH 7 ...\n",
      "Validation Accuracy = 0.936\n",
      "\n",
      "EPOCH 8 ...\n",
      "Validation Accuracy = 0.951\n",
      "\n",
      "EPOCH 9 ...\n",
      "Validation Accuracy = 0.944\n",
      "\n",
      "EPOCH 10 ...\n",
      "Validation Accuracy = 0.959\n",
      "\n"
     ]
    }
   ],
   "source": [
    "### Train your model here.\n",
    "### Feel free to use as many code cells as needed.\n",
    "\n",
    "x = tf.placeholder(tf.float32, (None, 32, 32, 3))\n",
    "y = tf.placeholder(tf.int32, (None))\n",
    "one_hot_y = tf.one_hot(y, n_classes)\n",
    "\n",
    "rate = 0.001\n",
    "\n",
    "#logits = GoogLeNet(x)\n",
    "#logits = GoogLeNet2(x)\n",
    "#logits = GoogLeNet3(x)\n",
    "#logits = GoogLeNet4(x)\n",
    "#logits = LeNet(x)\n",
    "logits = LeNet1(x)\n",
    "#logits = LeNetGray(x)\n",
    "cross_entropy = tf.nn.softmax_cross_entropy_with_logits(logits, one_hot_y)\n",
    "loss_operation = tf.reduce_mean(cross_entropy)\n",
    "optimizer = tf.train.AdamOptimizer(learning_rate = rate)\n",
    "training_operation = optimizer.minimize(loss_operation)\n",
    "\n",
    "#Evaluate\n",
    "correct_prediction = tf.equal(tf.argmax(logits, 1), tf.argmax(one_hot_y, 1))\n",
    "accuracy_operation = tf.reduce_mean(tf.cast(correct_prediction, tf.float32))\n",
    "saver = tf.train.Saver()\n",
    "\n",
    "def evaluate(X_data, y_data):\n",
    "    num_examples = len(X_data)\n",
    "    total_accuracy = 0\n",
    "    sess = tf.get_default_session()\n",
    "    for offset in range(0, num_examples, BATCH_SIZE):\n",
    "        batch_x, batch_y = X_data[offset:offset+BATCH_SIZE], y_data[offset:offset+BATCH_SIZE]\n",
    "        accuracy = sess.run(accuracy_operation, feed_dict={x: batch_x, y: batch_y})\n",
    "        total_accuracy += (accuracy * len(batch_x))\n",
    "    return total_accuracy / num_examples\n",
    "\n",
    "with tf.Session() as sess:\n",
    "    sess.run(tf.global_variables_initializer())\n",
    "    num_examples = len(X_train)\n",
    "    \n",
    "    print(\"Training...\")\n",
    "    print()\n",
    "    for i in range(EPOCHS):\n",
    "        X_train, y_train = shuffle(X_train, y_train)\n",
    "        for offset in range(0, num_examples, BATCH_SIZE):\n",
    "            end = offset + BATCH_SIZE\n",
    "            batch_x, batch_y = X_train[offset:end], y_train[offset:end]\n",
    "            sess.run(training_operation, feed_dict={x: batch_x, y: batch_y})\n",
    "            \n",
    "        validation_accuracy = evaluate(X_validation, y_validation)\n",
    "        print(\"EPOCH {} ...\".format(i+1))\n",
    "        print(\"Validation Accuracy = {:.3f}\".format(validation_accuracy))\n",
    "        print()\n",
    "        \n",
    "    #saver.save(sess, '/lenet_session')\n",
    "    #print(\"Model saved\")"
   ]
  },
  {
   "cell_type": "markdown",
   "metadata": {},
   "source": [
    "### Question 4\n",
    "\n",
    "_How did you train your model? (Type of optimizer, batch size, epochs, hyperparameters, etc.)_\n"
   ]
  },
  {
   "cell_type": "markdown",
   "metadata": {},
   "source": [
    "**Answer:**\n",
    "\n",
    "<i>Optimizer:</i> I used tensorflow's <b>Adamoptimizer</b> since it's more sophisticated according to the class lesson and its online documentation than <i>GradientDescentOptimizer</i>.\n",
    "<p><i>Batch size:</i> <b>128</b>; since I used my local computer to train the model, increasing the batch size would have maxed out my resources.\n",
    "<p><i>Epochs:</i> <b>136</b>; the validation accuracy would peak and flatten out at this iteration count.\n",
    "<p><i>Learning Rate</i>: <b>0.0001</b>; I slowed the learning in order to get more accurate results."
   ]
  },
  {
   "cell_type": "markdown",
   "metadata": {},
   "source": [
    "### Question 5\n",
    "\n",
    "\n",
    "_What approach did you take in coming up with a solution to this problem? It may have been a process of trial and error, in which case, outline the steps you took to get to the final solution and why you chose those steps. Perhaps your solution involved an already well known implementation or architecture. In this case, discuss why you think this is suitable for the current problem._"
   ]
  },
  {
   "cell_type": "markdown",
   "metadata": {},
   "source": [
    "**Answer:**  I attempted several different architectures such as Googlenet but determined this project's default Lenet architecture returned the best results.  Partly, I believe the Lenet architecture utilized less resources on my local computer and was able to complete its training in an adequate amount of time. Secondly, Googlenet, for example, is meant to run parallel convolutions for its inception architecture but I was not able to determine how to implement parallel programming in tensorflow so I will continue my research at a later time.  I won't give up so quickly!\n",
    "\n",
    "<p>As for training my model, I followed the advice from Vincent VanHoke's lesson to \"Stay Calm and first lower the learning rate\" anytime the model is not returning the expected results.  I also increased the epoch from 10 to 100 and then to 200 in order to determine where it peaked.  It peaked at 136 epochs.  These configurations gave my model a validation accuracy of .987 which I felt satisfied with."
   ]
  },
  {
   "cell_type": "markdown",
   "metadata": {},
   "source": [
    "---\n",
    "\n",
    "## Step 3: Test a Model on New Images\n",
    "\n",
    "Take several pictures of traffic signs that you find on the web or around you (at least five), and run them through your classifier on your computer to produce example results. The classifier might not recognize some local signs but it could prove interesting nonetheless.\n",
    "\n",
    "You may find `signnames.csv` useful as it contains mappings from the class id (integer) to the actual sign name."
   ]
  },
  {
   "cell_type": "markdown",
   "metadata": {},
   "source": [
    "### Implementation\n",
    "\n",
    "Use the code cell (or multiple code cells, if necessary) to implement the first step of your project. Once you have completed your implementation and are satisfied with the results, be sure to thoroughly answer the questions that follow."
   ]
  },
  {
   "cell_type": "code",
   "execution_count": 11,
   "metadata": {
    "collapsed": false
   },
   "outputs": [
    {
     "name": "stdout",
     "output_type": "stream",
     "text": [
      "Test Accuracy = 0.000\n"
     ]
    }
   ],
   "source": [
    "### Load the images and plot them here.\n",
    "### Feel free to use as many code cells as needed.\n",
    "\n",
    "with tf.Session() as sess:\n",
    "    #saver.restore(sess, tf.train.latest_checkpoint('.'))\n",
    "    sess.run(tf.global_variables_initializer())\n",
    "\n",
    "    test_accuracy = evaluate(X_test, y_test)\n",
    "    print(\"Test Accuracy = {:.3f}\".format(test_accuracy))"
   ]
  },
  {
   "cell_type": "markdown",
   "metadata": {},
   "source": [
    "### Question 6\n",
    "\n",
    "_Choose five candidate images of traffic signs and provide them in the report. Are there any particular qualities of the image(s) that might make classification difficult? It could be helpful to plot the images in the notebook._\n",
    "\n"
   ]
  },
  {
   "cell_type": "markdown",
   "metadata": {},
   "source": [
    "**Answer:**"
   ]
  },
  {
   "cell_type": "code",
   "execution_count": null,
   "metadata": {
    "collapsed": true
   },
   "outputs": [],
   "source": [
    "### Run the predictions here.\n",
    "### Feel free to use as many code cells as needed."
   ]
  },
  {
   "cell_type": "markdown",
   "metadata": {},
   "source": [
    "### Question 7\n",
    "\n",
    "_Is your model able to perform equally well on captured pictures when compared to testing on the dataset? The simplest way to do this check the accuracy of the predictions. For example, if the model predicted 1 out of 5 signs correctly, it's 20% accurate._\n",
    "\n",
    "_**NOTE:** You could check the accuracy manually by using `signnames.csv` (same directory). This file has a mapping from the class id (0-42) to the corresponding sign name. So, you could take the class id the model outputs, lookup the name in `signnames.csv` and see if it matches the sign from the image._\n"
   ]
  },
  {
   "cell_type": "markdown",
   "metadata": {},
   "source": [
    "**Answer:**"
   ]
  },
  {
   "cell_type": "code",
   "execution_count": null,
   "metadata": {
    "collapsed": true
   },
   "outputs": [],
   "source": [
    "### Visualize the softmax probabilities here.\n",
    "### Feel free to use as many code cells as needed."
   ]
  },
  {
   "cell_type": "markdown",
   "metadata": {},
   "source": [
    "### Question 8\n",
    "\n",
    "*Use the model's softmax probabilities to visualize the **certainty** of its predictions, [`tf.nn.top_k`](https://www.tensorflow.org/versions/r0.12/api_docs/python/nn.html#top_k) could prove helpful here. Which predictions is the model certain of? Uncertain? If the model was incorrect in its initial prediction, does the correct prediction appear in the top k? (k should be 5 at most)*\n",
    "\n",
    "`tf.nn.top_k` will return the values and indices (class ids) of the top k predictions. So if k=3, for each sign, it'll return the 3 largest probabilities (out of a possible 43) and the correspoding class ids.\n",
    "\n",
    "Take this numpy array as an example:\n",
    "\n",
    "```\n",
    "# (5, 6) array\n",
    "a = np.array([[ 0.24879643,  0.07032244,  0.12641572,  0.34763842,  0.07893497,\n",
    "         0.12789202],\n",
    "       [ 0.28086119,  0.27569815,  0.08594638,  0.0178669 ,  0.18063401,\n",
    "         0.15899337],\n",
    "       [ 0.26076848,  0.23664738,  0.08020603,  0.07001922,  0.1134371 ,\n",
    "         0.23892179],\n",
    "       [ 0.11943333,  0.29198961,  0.02605103,  0.26234032,  0.1351348 ,\n",
    "         0.16505091],\n",
    "       [ 0.09561176,  0.34396535,  0.0643941 ,  0.16240774,  0.24206137,\n",
    "         0.09155967]])\n",
    "```\n",
    "\n",
    "Running it through `sess.run(tf.nn.top_k(tf.constant(a), k=3))` produces:\n",
    "\n",
    "```\n",
    "TopKV2(values=array([[ 0.34763842,  0.24879643,  0.12789202],\n",
    "       [ 0.28086119,  0.27569815,  0.18063401],\n",
    "       [ 0.26076848,  0.23892179,  0.23664738],\n",
    "       [ 0.29198961,  0.26234032,  0.16505091],\n",
    "       [ 0.34396535,  0.24206137,  0.16240774]]), indices=array([[3, 0, 5],\n",
    "       [0, 1, 4],\n",
    "       [0, 5, 1],\n",
    "       [1, 3, 5],\n",
    "       [1, 4, 3]], dtype=int32))\n",
    "```\n",
    "\n",
    "Looking just at the first row we get `[ 0.34763842,  0.24879643,  0.12789202]`, you can confirm these are the 3 largest probabilities in `a`. You'll also notice `[3, 0, 5]` are the corresponding indices."
   ]
  },
  {
   "cell_type": "markdown",
   "metadata": {},
   "source": [
    "**Answer:**"
   ]
  },
  {
   "cell_type": "markdown",
   "metadata": {},
   "source": [
    "> **Note**: Once you have completed all of the code implementations and successfully answered each question above, you may finalize your work by exporting the iPython Notebook as an HTML document. You can do this by using the menu above and navigating to  \\n\",\n",
    "    \"**File -> Download as -> HTML (.html)**. Include the finished document along with this notebook as your submission."
   ]
  },
  {
   "cell_type": "code",
   "execution_count": null,
   "metadata": {
    "collapsed": true
   },
   "outputs": [],
   "source": []
  }
 ],
 "metadata": {
  "anaconda-cloud": {},
  "kernelspec": {
   "display_name": "Python 3",
   "language": "python",
   "name": "python3"
  },
  "language_info": {
   "codemirror_mode": {
    "name": "ipython",
    "version": 3
   },
   "file_extension": ".py",
   "mimetype": "text/x-python",
   "name": "python",
   "nbconvert_exporter": "python",
   "pygments_lexer": "ipython3",
   "version": "3.5.2"
  },
  "widgets": {
   "state": {},
   "version": "1.1.2"
  }
 },
 "nbformat": 4,
 "nbformat_minor": 1
}
